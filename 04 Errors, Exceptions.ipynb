{
 "cells": [
  {
   "cell_type": "markdown",
   "id": "3f7b8e0a",
   "metadata": {},
   "source": [
    "Useful read on how to use \"exception\" to handle errors\n",
    "\n",
    "https://www.codegrepper.com/code-examples/python/except+exception+as+e+python"
   ]
  }
 ],
 "metadata": {
  "kernelspec": {
   "display_name": "Python 3",
   "language": "python",
   "name": "python3"
  },
  "language_info": {
   "codemirror_mode": {
    "name": "ipython",
    "version": 3
   },
   "file_extension": ".py",
   "mimetype": "text/x-python",
   "name": "python",
   "nbconvert_exporter": "python",
   "pygments_lexer": "ipython3",
   "version": "3.8.8"
  }
 },
 "nbformat": 4,
 "nbformat_minor": 5
}
